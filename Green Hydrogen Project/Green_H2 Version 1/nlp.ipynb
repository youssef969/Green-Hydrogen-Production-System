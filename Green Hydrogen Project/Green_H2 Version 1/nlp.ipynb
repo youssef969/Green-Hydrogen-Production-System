{
 "cells": [
  {
   "cell_type": "code",
   "execution_count": 5,
   "metadata": {},
   "outputs": [
    {
     "name": "stdout",
     "output_type": "stream",
     "text": [
      "55.00 22.70\n",
      "50.00 22.30\n"
     ]
    }
   ],
   "source": [
    "import re\n",
    "\n",
    "string = \"Humidity: 55.0050.00%  Temperature: 22.7022.30°C 72.8672.14°F  Heat index: 22.4621.89°C 72.4371.40°F\"\n",
    "\n",
    "humuidity = string[10:15]\n",
    "temperature = string[36:41]\n",
    "\n",
    "humuidity_2 = string[15:20]\n",
    "temperature_2 = string[41:46]\n",
    "\n",
    "print(humuidity,temperature)\n",
    "print(humuidity_2,temperature_2)\n"
   ]
  },
  {
   "cell_type": "code",
   "execution_count": 3,
   "metadata": {},
   "outputs": [
    {
     "name": "stdout",
     "output_type": "stream",
     "text": [
      "temperature now is : 25\n",
      "the humuidity now: 25\n"
     ]
    }
   ],
   "source": [
    "text = \"what is the temperature humidity?\"\n",
    "\n",
    "result = re.findall(r\"[Tt]emp\\w+|[Hh]umid\\w+|[Ww]ind\\s[Ss]peed\",text)\n",
    "temp = re.search(r\"[Tt]emp\\w+\",text)\n",
    "humidity = re.search(r\"[Hh]umid\\w+\",text)\n",
    "\n",
    "\n",
    "for x in range(len(result)):\n",
    "    if temp.group() == result[x]:\n",
    "        print(\"temperature now is : 25\")   \n",
    "    elif humidity.group() == result[x]:\n",
    "        print(\"the humuidity now: 25\") \n",
    "    else: \n",
    "        print(\"False\")\n",
    "\n"
   ]
  },
  {
   "cell_type": "code",
   "execution_count": 20,
   "metadata": {},
   "outputs": [
    {
     "name": "stdout",
     "output_type": "stream",
     "text": [
      "the humuidity now: 25\n"
     ]
    }
   ],
   "source": [
    "text = \"what is the humidity?\"\n",
    "\n",
    "result = re.findall(r\"[Tt]emp\\w+|[Hh]umid\\w+|[Ww]ind\\s[Ss]peed\",text)\n",
    "temp = re.findall(r\"[Tt]emp\\w+\",text)\n",
    "temp.append(\"\")\n",
    "humidity = re.findall(r\"[Hh]umid\\w+\",text)\n",
    "humidity.append(\"\")\n",
    "wind = re.findall(r\"[Ww]ind\\s[Ss]peed\",text)\n",
    "wind.append(\"\")\n",
    "\n",
    "\n",
    "for x in range(len(result)):\n",
    "    if temp[0] == result[x]:\n",
    "        print(\"temperature now is : 25\")   \n",
    "    elif humidity[0] == result[x]:\n",
    "        print(\"the humuidity now: 25\") \n",
    "    elif wind[1] == result[x]:\n",
    "        print(\"Wind speed is 60 K\\M\")\n",
    "    else: \n",
    "        print(\"False\")\n",
    "\n"
   ]
  },
  {
   "cell_type": "code",
   "execution_count": 5,
   "metadata": {},
   "outputs": [
    {
     "name": "stdout",
     "output_type": "stream",
     "text": [
      "0\n"
     ]
    }
   ],
   "source": [
    "text = \"what is the temperature?\"\n",
    "\n",
    "result = re.findall(r\"[Tt]emp\\w+|[Hh]umid\\w+|[Ww]ind\\s[Ss]peed\",text)\n",
    "temp = re.findall(r\"[Tt]emp\\w+\",text)\n",
    "humidity = re.findall(r\"[Hh]umid\\w+\",text)\n",
    "wind = re.findall(r\"[Ww]ind\\s[Ss]peed\",text)\n",
    "\n",
    "\n",
    "for x in range(len(result)):\n",
    "   print(x)\n",
    "\n"
   ]
  },
  {
   "cell_type": "code",
   "execution_count": 36,
   "metadata": {},
   "outputs": [
    {
     "name": "stdout",
     "output_type": "stream",
     "text": [
      "54.55\n"
     ]
    }
   ],
   "source": [
    "import re\n",
    "text = \" 54.55 57.50 26.55 26.55 250 \"\n",
    "\n",
    "result = re.findall(r\"[0-9.]*\\S\",text)\n",
    "temperature_1 = float(result[0])\n",
    "temperature_H = float(result[1])\n",
    "humuidity_1 = float(result[2])\n",
    "humuidity_H = float(result[3])\n",
    "hydrogen = int(result[4])\n",
    "print(temperature_1)"
   ]
  }
 ],
 "metadata": {
  "kernelspec": {
   "display_name": "Python 3",
   "language": "python",
   "name": "python3"
  },
  "language_info": {
   "codemirror_mode": {
    "name": "ipython",
    "version": 3
   },
   "file_extension": ".py",
   "mimetype": "text/x-python",
   "name": "python",
   "nbconvert_exporter": "python",
   "pygments_lexer": "ipython3",
   "version": "3.10.11"
  }
 },
 "nbformat": 4,
 "nbformat_minor": 2
}
