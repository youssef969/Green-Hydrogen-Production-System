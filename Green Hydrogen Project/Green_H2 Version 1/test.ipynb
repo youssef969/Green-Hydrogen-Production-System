{
 "cells": [
  {
   "cell_type": "code",
   "execution_count": 7,
   "metadata": {},
   "outputs": [
    {
     "ename": "SerialException",
     "evalue": "could not open port 'COM5': PermissionError(13, 'Access is denied.', None, 5)",
     "output_type": "error",
     "traceback": [
      "\u001b[1;31m---------------------------------------------------------------------------\u001b[0m",
      "\u001b[1;31mSerialException\u001b[0m                           Traceback (most recent call last)",
      "Cell \u001b[1;32mIn[7], line 15\u001b[0m\n\u001b[0;32m     13\u001b[0m x_train ,x_test  , y_train , y_test \u001b[38;5;241m=\u001b[39m train_test_split(x,y,test_size\u001b[38;5;241m=\u001b[39m\u001b[38;5;241m0.2\u001b[39m,shuffle\u001b[38;5;241m=\u001b[39m\u001b[38;5;28;01mFalse\u001b[39;00m)\n\u001b[0;32m     14\u001b[0m classifier\u001b[38;5;241m.\u001b[39mfit(x_train,y_train)\n\u001b[1;32m---> 15\u001b[0m ser \u001b[38;5;241m=\u001b[39m \u001b[43mserial\u001b[49m\u001b[38;5;241;43m.\u001b[39;49m\u001b[43mSerial\u001b[49m\u001b[43m(\u001b[49m\u001b[38;5;124;43m'\u001b[39;49m\u001b[38;5;124;43mCOM5\u001b[39;49m\u001b[38;5;124;43m'\u001b[39;49m\u001b[43m,\u001b[49m\u001b[38;5;241;43m9600\u001b[39;49m\u001b[43m)\u001b[49m\n\u001b[0;32m     18\u001b[0m time\u001b[38;5;241m.\u001b[39msleep(\u001b[38;5;241m2\u001b[39m)\n\u001b[0;32m     19\u001b[0m temp \u001b[38;5;241m=\u001b[39m []\n",
      "File \u001b[1;32m~\\AppData\\Local\\Packages\\PythonSoftwareFoundation.Python.3.10_qbz5n2kfra8p0\\LocalCache\\local-packages\\Python310\\site-packages\\serial\\serialwin32.py:33\u001b[0m, in \u001b[0;36mSerial.__init__\u001b[1;34m(self, *args, **kwargs)\u001b[0m\n\u001b[0;32m     31\u001b[0m \u001b[38;5;28mself\u001b[39m\u001b[38;5;241m.\u001b[39m_overlapped_read \u001b[38;5;241m=\u001b[39m \u001b[38;5;28;01mNone\u001b[39;00m\n\u001b[0;32m     32\u001b[0m \u001b[38;5;28mself\u001b[39m\u001b[38;5;241m.\u001b[39m_overlapped_write \u001b[38;5;241m=\u001b[39m \u001b[38;5;28;01mNone\u001b[39;00m\n\u001b[1;32m---> 33\u001b[0m \u001b[38;5;28msuper\u001b[39m(Serial, \u001b[38;5;28mself\u001b[39m)\u001b[38;5;241m.\u001b[39m\u001b[38;5;21m__init__\u001b[39m(\u001b[38;5;241m*\u001b[39margs, \u001b[38;5;241m*\u001b[39m\u001b[38;5;241m*\u001b[39mkwargs)\n",
      "File \u001b[1;32m~\\AppData\\Local\\Packages\\PythonSoftwareFoundation.Python.3.10_qbz5n2kfra8p0\\LocalCache\\local-packages\\Python310\\site-packages\\serial\\serialutil.py:244\u001b[0m, in \u001b[0;36mSerialBase.__init__\u001b[1;34m(self, port, baudrate, bytesize, parity, stopbits, timeout, xonxoff, rtscts, write_timeout, dsrdtr, inter_byte_timeout, exclusive, **kwargs)\u001b[0m\n\u001b[0;32m    241\u001b[0m     \u001b[38;5;28;01mraise\u001b[39;00m \u001b[38;5;167;01mValueError\u001b[39;00m(\u001b[38;5;124m'\u001b[39m\u001b[38;5;124munexpected keyword arguments: \u001b[39m\u001b[38;5;132;01m{!r}\u001b[39;00m\u001b[38;5;124m'\u001b[39m\u001b[38;5;241m.\u001b[39mformat(kwargs))\n\u001b[0;32m    243\u001b[0m \u001b[38;5;28;01mif\u001b[39;00m port \u001b[38;5;129;01mis\u001b[39;00m \u001b[38;5;129;01mnot\u001b[39;00m \u001b[38;5;28;01mNone\u001b[39;00m:\n\u001b[1;32m--> 244\u001b[0m     \u001b[38;5;28;43mself\u001b[39;49m\u001b[38;5;241;43m.\u001b[39;49m\u001b[43mopen\u001b[49m\u001b[43m(\u001b[49m\u001b[43m)\u001b[49m\n",
      "File \u001b[1;32m~\\AppData\\Local\\Packages\\PythonSoftwareFoundation.Python.3.10_qbz5n2kfra8p0\\LocalCache\\local-packages\\Python310\\site-packages\\serial\\serialwin32.py:64\u001b[0m, in \u001b[0;36mSerial.open\u001b[1;34m(self)\u001b[0m\n\u001b[0;32m     62\u001b[0m \u001b[38;5;28;01mif\u001b[39;00m \u001b[38;5;28mself\u001b[39m\u001b[38;5;241m.\u001b[39m_port_handle \u001b[38;5;241m==\u001b[39m win32\u001b[38;5;241m.\u001b[39mINVALID_HANDLE_VALUE:\n\u001b[0;32m     63\u001b[0m     \u001b[38;5;28mself\u001b[39m\u001b[38;5;241m.\u001b[39m_port_handle \u001b[38;5;241m=\u001b[39m \u001b[38;5;28;01mNone\u001b[39;00m    \u001b[38;5;66;03m# 'cause __del__ is called anyway\u001b[39;00m\n\u001b[1;32m---> 64\u001b[0m     \u001b[38;5;28;01mraise\u001b[39;00m SerialException(\u001b[38;5;124m\"\u001b[39m\u001b[38;5;124mcould not open port \u001b[39m\u001b[38;5;132;01m{!r}\u001b[39;00m\u001b[38;5;124m: \u001b[39m\u001b[38;5;132;01m{!r}\u001b[39;00m\u001b[38;5;124m\"\u001b[39m\u001b[38;5;241m.\u001b[39mformat(\u001b[38;5;28mself\u001b[39m\u001b[38;5;241m.\u001b[39mportstr, ctypes\u001b[38;5;241m.\u001b[39mWinError()))\n\u001b[0;32m     66\u001b[0m \u001b[38;5;28;01mtry\u001b[39;00m:\n\u001b[0;32m     67\u001b[0m     \u001b[38;5;28mself\u001b[39m\u001b[38;5;241m.\u001b[39m_overlapped_read \u001b[38;5;241m=\u001b[39m win32\u001b[38;5;241m.\u001b[39mOVERLAPPED()\n",
      "\u001b[1;31mSerialException\u001b[0m: could not open port 'COM5': PermissionError(13, 'Access is denied.', None, 5)"
     ]
    }
   ],
   "source": [
    "import serial\n",
    "import time\n",
    "import pandas as pd\n",
    "from sklearn.ensemble import RandomForestClassifier\n",
    "from sklearn.model_selection import train_test_split \n",
    "import sklearn.metrics as mc\n",
    "import datetime\n",
    "\n",
    "data=pd.read_csv(\"D:\\\\Python\\\\Green_H2\\\\data_with_city.csv\")\n",
    "classifier = RandomForestClassifier(n_estimators=100,random_state=1)\n",
    "x=data.iloc[:,:-1]\n",
    "y=data.iloc[:,-1]\n",
    "x_train ,x_test  , y_train , y_test = train_test_split(x,y,test_size=0.2,shuffle=False)\n",
    "classifier.fit(x_train,y_train)\n",
    "ser = serial.Serial('COM5',9600)\n",
    "\n",
    "\n",
    "time.sleep(2)\n",
    "temp = []\n",
    "while True:\n",
    "  line = ser.readline().decode(\"utf-8\")\n",
    "  humuidity = line[10:15]\n",
    "  temperature = line[36:41]\n",
    "  humuidity_2 = line[15:20]\n",
    "  temperature_2 = line[41:46]\n",
    "  if temperature == \"\":\n",
    "    continue\n",
    "  else:\n",
    "    float_temp = float(temperature)\n",
    "    temp.sort()\n",
    "    temp.append(float_temp)\n",
    "    max_temp = temp[-1]\n",
    "    Min_temp = temp[0]\n",
    "    # print(f\"Temperature = {temperature}\")\n",
    "    # print(f\"humuidity = {humuidity}\")\n",
    "    # print(f\"Temperature = {temperature_2}\")\n",
    "    # print(f\"humuidity = {humuidity_2}\")\n",
    "    month_2 = datetime.datetime.now().month\n",
    "    str_month =str(month_2)\n",
    "    test = pd.DataFrame({\"month\":[str_month],\"precipitation\":[humuidity],\"temp_max\":[max_temp],\"temp_min\":[Min_temp],\"wind\":[float(15)]})\n",
    "    prediction = classifier.predict(test)[0] \n",
    "    print(prediction)   \n",
    "    \n",
    "        \n",
    "        \n",
    "    \n"
   ]
  },
  {
   "cell_type": "code",
   "execution_count": null,
   "metadata": {},
   "outputs": [
    {
     "name": "stdout",
     "output_type": "stream",
     "text": [
      "122\n"
     ]
    }
   ],
   "source": [
    "\n",
    "\n",
    "line = \"Humidity: 66.0062.00%  Temperature: 24.3024.30°C 75.7475.74H2 Concentration:122ppm\"\n",
    "string = \"ghg\"\n",
    "humuidity = line[10:12]\n",
    "temperature = line[36:38]\n",
    "humuidity_2 = line[15:20]\n",
    "temperature_2 = line[41:46]\n",
    "hydrogeen = line[76:79]\n",
    "\n",
    "print(hydrogeen)\n",
    "\n",
    "\n",
    "        "
   ]
  },
  {
   "cell_type": "code",
   "execution_count": null,
   "metadata": {},
   "outputs": [
    {
     "name": "stdout",
     "output_type": "stream",
     "text": [
      "12\n"
     ]
    }
   ],
   "source": [
    "import re\n",
    "import datetime\n",
    "\n",
    "month=datetime.datetime.now().month\n",
    "text = \"2012-12-01\"\t\n",
    "result = text[5:7]\n",
    "\n",
    "\n",
    "print(result)\n",
    "\n",
    "\n"
   ]
  },
  {
   "cell_type": "code",
   "execution_count": 7,
   "metadata": {},
   "outputs": [],
   "source": [
    "import tkinter as tk\n",
    "\n",
    "def create_round_frame(canvas, x, y, radius, color):\n",
    "    canvas.create_oval(x - radius, y - radius, x + radius, y + radius, fill=color)\n",
    "\n",
    "# Create the main tkinter window\n",
    "root = tk.Tk()\n",
    "\n",
    "# Create a canvas to draw the round frame\n",
    "canvas = tk.Canvas(root, width=400, height=300, bg='blue')\n",
    "canvas.pack()\n",
    "\n",
    "canvas.create_rectangle(-100,0,500,400,fill=\"red\")\n",
    "# Create a round frame on the canvas\n",
    "#create_round_frame(canvas, 100,120, 100, 'Black')\n",
    "\n",
    "# Add other widgets on top of the round frame\n",
    "label = tk.Label(canvas, text=\"Hello, Round Frame!\", bg='white')\n",
    "label.place(x=70, y=90)\n",
    "\n",
    "# Run the tkinter main loop\n",
    "root.mainloop()"
   ]
  },
  {
   "cell_type": "code",
   "execution_count": 7,
   "metadata": {},
   "outputs": [],
   "source": [
    "import pandas as pd\n",
    "import pymysql\n",
    "\n",
    "\n",
    "# Establish a connection to the database\n",
    "conn = pymysql.connect( host=\"localhost\", user=\"root\", password=\"123456\", database=\"Green_hydrogen\")\n",
    "\n",
    "# Execute a SQL query to fetch the data\n",
    "\n",
    "cursor = conn.cursor()\n",
    "query = \"SELECT * FROM Production\"\n",
    "cursor.execute(query)\n",
    "\n",
    "# Fetch the data into a pandas DataFrame\n",
    "data = cursor.fetchall()\n",
    "columns = [desc[0] for desc in cursor.description]\n",
    "df = pd.DataFrame(data, columns=columns)\n",
    "\n",
    "# Save the DataFrame as an Excel file\n",
    "df.to_csv(\"output.csv\", index=False)\n",
    "\n",
    "# Close the database connection\n",
    "conn.close()"
   ]
  },
  {
   "cell_type": "code",
   "execution_count": 3,
   "metadata": {},
   "outputs": [
    {
     "name": "stdout",
     "output_type": "stream",
     "text": [
      "['wind speed']\n"
     ]
    }
   ],
   "source": [
    "import re\n",
    "text = \"what is the current wind speed ?\"\n",
    "\n",
    "result = re.findall(r\"[Ww]ind\\s[Ss]peed\",text)\n",
    "print(result)"
   ]
  },
  {
   "cell_type": "code",
   "execution_count": null,
   "metadata": {},
   "outputs": [],
   "source": [
    "import requests\n",
    "\n",
    "def check_internet_connection():\n",
    "    try:\n",
    "        response = requests.get('https://www.google.com', timeout=5)\n",
    "        \n",
    "        if response.status_code == 200:\n",
    "            return True\n",
    "        else:\n",
    "            return False\n",
    "    except requests.exceptions.RequestException:\n",
    "        return False\n",
    "\n",
    "check_internet_connection()"
   ]
  }
 ],
 "metadata": {
  "kernelspec": {
   "display_name": "Python 3",
   "language": "python",
   "name": "python3"
  },
  "language_info": {
   "codemirror_mode": {
    "name": "ipython",
    "version": 3
   },
   "file_extension": ".py",
   "mimetype": "text/x-python",
   "name": "python",
   "nbconvert_exporter": "python",
   "pygments_lexer": "ipython3",
   "version": "3.10.11"
  }
 },
 "nbformat": 4,
 "nbformat_minor": 2
}
